{
 "cells": [
  {
   "cell_type": "markdown",
   "metadata": {
    "slideshow": {
     "slide_type": "slide"
    }
   },
   "source": [
    "# Descriptores de forma para nubes de puntos 3D"
   ]
  },
  {
   "cell_type": "markdown",
   "metadata": {},
   "source": [
    "## Base de datos\n",
    "\n",
    "Adquisición de nube de puntos a partir de video"
   ]
  },
  {
   "cell_type": "markdown",
   "metadata": {},
   "source": [
    "<img src=\"images/data_adq.png\" style=\"width: 700px;\">"
   ]
  },
  {
   "cell_type": "markdown",
   "metadata": {},
   "source": [
    "## 3D Point Cloud"
   ]
  },
  {
   "cell_type": "code",
   "execution_count": 1,
   "metadata": {
    "slideshow": {
     "slide_type": "slide"
    }
   },
   "outputs": [
    {
     "data": {
      "text/html": [
       "<div>\n",
       "<style scoped>\n",
       "    .dataframe tbody tr th:only-of-type {\n",
       "        vertical-align: middle;\n",
       "    }\n",
       "\n",
       "    .dataframe tbody tr th {\n",
       "        vertical-align: top;\n",
       "    }\n",
       "\n",
       "    .dataframe thead th {\n",
       "        text-align: right;\n",
       "    }\n",
       "</style>\n",
       "<table border=\"1\" class=\"dataframe\">\n",
       "  <thead>\n",
       "    <tr style=\"text-align: right;\">\n",
       "      <th></th>\n",
       "      <th>x</th>\n",
       "      <th>y</th>\n",
       "      <th>z</th>\n",
       "      <th>nx</th>\n",
       "      <th>ny</th>\n",
       "      <th>nz</th>\n",
       "      <th>red</th>\n",
       "      <th>green</th>\n",
       "      <th>blue</th>\n",
       "      <th>alpha</th>\n",
       "    </tr>\n",
       "  </thead>\n",
       "  <tbody>\n",
       "    <tr>\n",
       "      <th>count</th>\n",
       "      <td>26405.000000</td>\n",
       "      <td>26405.000000</td>\n",
       "      <td>26405.000000</td>\n",
       "      <td>26405.000000</td>\n",
       "      <td>26405.000000</td>\n",
       "      <td>26405.000000</td>\n",
       "      <td>26405.000000</td>\n",
       "      <td>26405.000000</td>\n",
       "      <td>26405.000000</td>\n",
       "      <td>26405.0</td>\n",
       "    </tr>\n",
       "    <tr>\n",
       "      <th>mean</th>\n",
       "      <td>-2.078718</td>\n",
       "      <td>1.095724</td>\n",
       "      <td>0.228201</td>\n",
       "      <td>0.037529</td>\n",
       "      <td>-0.019235</td>\n",
       "      <td>-0.132769</td>\n",
       "      <td>144.441810</td>\n",
       "      <td>129.367544</td>\n",
       "      <td>117.276539</td>\n",
       "      <td>255.0</td>\n",
       "    </tr>\n",
       "    <tr>\n",
       "      <th>std</th>\n",
       "      <td>0.299813</td>\n",
       "      <td>1.638542</td>\n",
       "      <td>0.703248</td>\n",
       "      <td>0.690215</td>\n",
       "      <td>0.427445</td>\n",
       "      <td>0.567032</td>\n",
       "      <td>30.459892</td>\n",
       "      <td>34.182228</td>\n",
       "      <td>36.577246</td>\n",
       "      <td>0.0</td>\n",
       "    </tr>\n",
       "    <tr>\n",
       "      <th>min</th>\n",
       "      <td>-2.803260</td>\n",
       "      <td>-1.636970</td>\n",
       "      <td>-2.958720</td>\n",
       "      <td>-0.999971</td>\n",
       "      <td>-0.999520</td>\n",
       "      <td>-0.999900</td>\n",
       "      <td>24.000000</td>\n",
       "      <td>24.000000</td>\n",
       "      <td>23.000000</td>\n",
       "      <td>255.0</td>\n",
       "    </tr>\n",
       "    <tr>\n",
       "      <th>25%</th>\n",
       "      <td>-2.324630</td>\n",
       "      <td>-0.243042</td>\n",
       "      <td>-0.191804</td>\n",
       "      <td>-0.671336</td>\n",
       "      <td>-0.313780</td>\n",
       "      <td>-0.636432</td>\n",
       "      <td>130.000000</td>\n",
       "      <td>107.000000</td>\n",
       "      <td>93.000000</td>\n",
       "      <td>255.0</td>\n",
       "    </tr>\n",
       "    <tr>\n",
       "      <th>50%</th>\n",
       "      <td>-2.090480</td>\n",
       "      <td>0.791329</td>\n",
       "      <td>0.196433</td>\n",
       "      <td>0.179696</td>\n",
       "      <td>-0.029879</td>\n",
       "      <td>-0.195724</td>\n",
       "      <td>147.000000</td>\n",
       "      <td>126.000000</td>\n",
       "      <td>113.000000</td>\n",
       "      <td>255.0</td>\n",
       "    </tr>\n",
       "    <tr>\n",
       "      <th>75%</th>\n",
       "      <td>-1.829800</td>\n",
       "      <td>2.169530</td>\n",
       "      <td>0.683252</td>\n",
       "      <td>0.687106</td>\n",
       "      <td>0.278665</td>\n",
       "      <td>0.317076</td>\n",
       "      <td>163.000000</td>\n",
       "      <td>152.000000</td>\n",
       "      <td>139.000000</td>\n",
       "      <td>255.0</td>\n",
       "    </tr>\n",
       "    <tr>\n",
       "      <th>max</th>\n",
       "      <td>-1.207110</td>\n",
       "      <td>5.187420</td>\n",
       "      <td>3.716330</td>\n",
       "      <td>0.999955</td>\n",
       "      <td>0.941484</td>\n",
       "      <td>0.999918</td>\n",
       "      <td>230.000000</td>\n",
       "      <td>241.000000</td>\n",
       "      <td>246.000000</td>\n",
       "      <td>255.0</td>\n",
       "    </tr>\n",
       "  </tbody>\n",
       "</table>\n",
       "</div>"
      ],
      "text/plain": [
       "                  x             y             z            nx            ny  \\\n",
       "count  26405.000000  26405.000000  26405.000000  26405.000000  26405.000000   \n",
       "mean      -2.078718      1.095724      0.228201      0.037529     -0.019235   \n",
       "std        0.299813      1.638542      0.703248      0.690215      0.427445   \n",
       "min       -2.803260     -1.636970     -2.958720     -0.999971     -0.999520   \n",
       "25%       -2.324630     -0.243042     -0.191804     -0.671336     -0.313780   \n",
       "50%       -2.090480      0.791329      0.196433      0.179696     -0.029879   \n",
       "75%       -1.829800      2.169530      0.683252      0.687106      0.278665   \n",
       "max       -1.207110      5.187420      3.716330      0.999955      0.941484   \n",
       "\n",
       "                 nz           red         green          blue    alpha  \n",
       "count  26405.000000  26405.000000  26405.000000  26405.000000  26405.0  \n",
       "mean      -0.132769    144.441810    129.367544    117.276539    255.0  \n",
       "std        0.567032     30.459892     34.182228     36.577246      0.0  \n",
       "min       -0.999900     24.000000     24.000000     23.000000    255.0  \n",
       "25%       -0.636432    130.000000    107.000000     93.000000    255.0  \n",
       "50%       -0.195724    147.000000    126.000000    113.000000    255.0  \n",
       "75%        0.317076    163.000000    152.000000    139.000000    255.0  \n",
       "max        0.999918    230.000000    241.000000    246.000000    255.0  "
      ]
     },
     "execution_count": 1,
     "metadata": {},
     "output_type": "execute_result"
    }
   ],
   "source": [
    "from pyntcloud import PyntCloud\n",
    "import numpy as np\n",
    "\n",
    "cloud = PyntCloud.from_file(\"data/050.ply\")\n",
    "cloud.points.describe()"
   ]
  },
  {
   "cell_type": "code",
   "execution_count": 2,
   "metadata": {
    "scrolled": true,
    "slideshow": {
     "slide_type": "slide"
    }
   },
   "outputs": [
    {
     "data": {
      "text/html": [
       "\n",
       "        <iframe\n",
       "            width=\"800\"\n",
       "            height=\"500\"\n",
       "            src=\"pyntcloud_plot.html\"\n",
       "            frameborder=\"0\"\n",
       "            allowfullscreen\n",
       "        ></iframe>\n",
       "        "
      ],
      "text/plain": [
       "<IPython.lib.display.IFrame at 0x7f1a1d9599e8>"
      ]
     },
     "execution_count": 2,
     "metadata": {},
     "output_type": "execute_result"
    }
   ],
   "source": [
    "cloud.plot(backend=\"threejs\")"
   ]
  },
  {
   "cell_type": "markdown",
   "metadata": {},
   "source": [
    "### Inclination (Degrees)\n",
    "\n",
    "Inclinación vertical respecto al eje Z en grados.\n",
    "\n",
    "\n",
    "$\\huge I_d = \\arccos (N_z) \\times \\frac{180}\\pi{}$"
   ]
  },
  {
   "cell_type": "code",
   "execution_count": 3,
   "metadata": {},
   "outputs": [
    {
     "data": {
      "text/plain": [
       "<matplotlib.axes._subplots.AxesSubplot at 0x7f1a1d98c7b8>"
      ]
     },
     "execution_count": 3,
     "metadata": {},
     "output_type": "execute_result"
    },
    {
     "data": {
      "image/png": "[encoded data removed]",
      "text/plain": [
       "<Figure size 432x288 with 1 Axes>"
      ]
     },
     "metadata": {
      "needs_background": "light"
     },
     "output_type": "display_data"
    }
   ],
   "source": [
    "inclination_degrees = cloud.add_scalar_field(\"inclination_degrees\")\n",
    "cloud.points[inclination_degrees].plot(kind=\"hist\")"
   ]
  },
  {
   "cell_type": "code",
   "execution_count": 4,
   "metadata": {
    "scrolled": true
   },
   "outputs": [
    {
     "data": {
      "text/html": [
       "\n",
       "        <iframe\n",
       "            width=\"800\"\n",
       "            height=\"500\"\n",
       "            src=\"pyntcloud_plot.html\"\n",
       "            frameborder=\"0\"\n",
       "            allowfullscreen\n",
       "        ></iframe>\n",
       "        "
      ],
      "text/plain": [
       "<IPython.lib.display.IFrame at 0x7f1a1d89beb8>"
      ]
     },
     "execution_count": 4,
     "metadata": {},
     "output_type": "execute_result"
    }
   ],
   "source": [
    "cloud.plot(use_as_color=inclination_degrees, cmap=\"jet\", backend=\"threejs\")"
   ]
  },
  {
   "cell_type": "markdown",
   "metadata": {},
   "source": [
    "### Orientation (Degrees)\n",
    "\n",
    "Orientación horizontal con respecto al plano XY en grados.\n",
    "\n",
    "$\\huge O_d = \\arctan (N_x, N_y) \\times \\frac{180}\\pi{}$"
   ]
  },
  {
   "cell_type": "code",
   "execution_count": 5,
   "metadata": {},
   "outputs": [
    {
     "data": {
      "text/plain": [
       "<matplotlib.axes._subplots.AxesSubplot at 0x7f1a1d89bcc0>"
      ]
     },
     "execution_count": 5,
     "metadata": {},
     "output_type": "execute_result"
    },
    {
     "data": {
      "image/png": "[encoded data removed]",
      "text/plain": [
       "<Figure size 432x288 with 1 Axes>"
      ]
     },
     "metadata": {
      "needs_background": "light"
     },
     "output_type": "display_data"
    }
   ],
   "source": [
    "orientation_degrees = cloud.add_scalar_field(\"orientation_degrees\")\n",
    "cloud.points[orientation_degrees].plot(kind=\"hist\")"
   ]
  },
  {
   "cell_type": "code",
   "execution_count": 6,
   "metadata": {
    "scrolled": true
   },
   "outputs": [
    {
     "data": {
      "text/html": [
       "\n",
       "        <iframe\n",
       "            width=\"800\"\n",
       "            height=\"500\"\n",
       "            src=\"pyntcloud_plot.html\"\n",
       "            frameborder=\"0\"\n",
       "            allowfullscreen\n",
       "        ></iframe>\n",
       "        "
      ],
      "text/plain": [
       "<IPython.lib.display.IFrame at 0x7f1a1b18e588>"
      ]
     },
     "execution_count": 6,
     "metadata": {},
     "output_type": "execute_result"
    }
   ],
   "source": [
    "cloud.plot(use_as_color=orientation_degrees, cmap=\"jet\", backend=\"threejs\")"
   ]
  },
  {
   "cell_type": "markdown",
   "metadata": {},
   "source": [
    "### k neighbors\n",
    "\n",
    "Nearest Neighbor: Encontrando vecinos más cercanos de cada punto.\n",
    "Los vecinos más cercanos a cada punto de consulta se calculan utilizando el algoritmo de búsqueda basado en Kd-tree.\n",
    "\n",
    "Un árbol k-d, o árbol tridimensional, es una estructura de datos utilizada para organizar cierto número de puntos en un espacio con k dimensiones. Para nuestros propósitos, por lo general solo trataremos con nubes de puntos en tres dimensiones, por lo que todos nuestros árboles k-d serán tridimensionales. Cada nivel de un árbol k-d divide todos los elementos secundarios a lo largo de una dimensión específica, utilizando un hiperplano que es perpendicular al eje correspondiente."
   ]
  },
  {
   "cell_type": "code",
   "execution_count": 7,
   "metadata": {},
   "outputs": [
    {
     "name": "stdout",
     "output_type": "stream",
     "text": [
      "[[    0    37    35 ... 16470 12338 21281]\n",
      " [    0    37    35 ... 16470 12338 21281]\n",
      " [    2  7918  3162 ...  1677 14299  5932]\n",
      " ...\n",
      " [22476 26176 26197 ... 22440 23042 20983]\n",
      " [26206 24675 25374 ... 17131 25779   183]\n",
      " [26316 26397 26317 ... 22449 26204 20708]]\n",
      "(26405, 25)\n"
     ]
    }
   ],
   "source": [
    "k_neighbors = cloud.get_neighbors(k=25) #k=8,25,50,100\n",
    "print(k_neighbors)\n",
    "print(k_neighbors.shape)"
   ]
  },
  {
   "cell_type": "markdown",
   "metadata": {},
   "source": [
    "# Eigenvalues"
   ]
  },
  {
   "cell_type": "markdown",
   "metadata": {},
   "source": [
    "### eigenvalues\n",
    "\n",
    "Los valores propios y los vectores propios ocupan un lugar destacado en el análisis de las transformaciones lineales. El prefijo eigen- se adopta de la palabra alemana eigen para **\"característico\"**. Originalmente utilizado para estudiar los ejes principales del movimiento de rotación de cuerpos rígidos.\n",
    "\n",
    "En esencia, un vector propio v de una transformación lineal T es un vector distinto de cero que, cuando se le aplica T , **no cambia de dirección**. La aplicación de T al vector propio solo escala el vector propio mediante el valor escalar λ , denominado valor propio. Esta condición se puede escribir como la ecuación.\n",
    "\n",
    "T(v) = λv\n",
    "\n",
    "referido como la ecuación del valor propio o eigenequation . En general, λ puede ser cualquier escalar . Por ejemplo, λ puede ser negativo, en cuyo caso el vector propio invierte la dirección como parte de la escala, o puede ser cero o complejo."
   ]
  },
  {
   "cell_type": "code",
   "execution_count": 8,
   "metadata": {},
   "outputs": [
    {
     "name": "stdout",
     "output_type": "stream",
     "text": [
      "['e1(26)', 'e2(26)', 'e3(26)']\n"
     ]
    }
   ],
   "source": [
    "eigenvalues = cloud.add_scalar_field(\"eigen_values\", k_neighbors=k_neighbors)\n",
    "print(eigenvalues)"
   ]
  },
  {
   "cell_type": "code",
   "execution_count": 9,
   "metadata": {},
   "outputs": [
    {
     "data": {
      "text/html": [
       "<div>\n",
       "<style scoped>\n",
       "    .dataframe tbody tr th:only-of-type {\n",
       "        vertical-align: middle;\n",
       "    }\n",
       "\n",
       "    .dataframe tbody tr th {\n",
       "        vertical-align: top;\n",
       "    }\n",
       "\n",
       "    .dataframe thead th {\n",
       "        text-align: right;\n",
       "    }\n",
       "</style>\n",
       "<table border=\"1\" class=\"dataframe\">\n",
       "  <thead>\n",
       "    <tr style=\"text-align: right;\">\n",
       "      <th></th>\n",
       "      <th>x</th>\n",
       "      <th>y</th>\n",
       "      <th>z</th>\n",
       "      <th>nx</th>\n",
       "      <th>ny</th>\n",
       "      <th>nz</th>\n",
       "      <th>red</th>\n",
       "      <th>green</th>\n",
       "      <th>blue</th>\n",
       "      <th>alpha</th>\n",
       "      <th>inclination_deg</th>\n",
       "      <th>orientation_deg</th>\n",
       "      <th>e1(26)</th>\n",
       "      <th>e2(26)</th>\n",
       "      <th>e3(26)</th>\n",
       "    </tr>\n",
       "  </thead>\n",
       "  <tbody>\n",
       "    <tr>\n",
       "      <th>count</th>\n",
       "      <td>26405.000000</td>\n",
       "      <td>26405.000000</td>\n",
       "      <td>26405.000000</td>\n",
       "      <td>26405.000000</td>\n",
       "      <td>26405.000000</td>\n",
       "      <td>26405.000000</td>\n",
       "      <td>26405.000000</td>\n",
       "      <td>26405.000000</td>\n",
       "      <td>26405.000000</td>\n",
       "      <td>26405.0</td>\n",
       "      <td>26405.000000</td>\n",
       "      <td>26405.000000</td>\n",
       "      <td>26405.000000</td>\n",
       "      <td>26405.000000</td>\n",
       "      <td>26405.000000</td>\n",
       "    </tr>\n",
       "    <tr>\n",
       "      <th>mean</th>\n",
       "      <td>-2.078718</td>\n",
       "      <td>1.095724</td>\n",
       "      <td>0.228201</td>\n",
       "      <td>0.037529</td>\n",
       "      <td>-0.019235</td>\n",
       "      <td>-0.132769</td>\n",
       "      <td>144.441810</td>\n",
       "      <td>129.367544</td>\n",
       "      <td>117.276539</td>\n",
       "      <td>255.0</td>\n",
       "      <td>98.787552</td>\n",
       "      <td>172.925842</td>\n",
       "      <td>0.002063</td>\n",
       "      <td>0.001055</td>\n",
       "      <td>0.000266</td>\n",
       "    </tr>\n",
       "    <tr>\n",
       "      <th>std</th>\n",
       "      <td>0.299813</td>\n",
       "      <td>1.638542</td>\n",
       "      <td>0.703248</td>\n",
       "      <td>0.690215</td>\n",
       "      <td>0.427445</td>\n",
       "      <td>0.567032</td>\n",
       "      <td>30.459892</td>\n",
       "      <td>34.182228</td>\n",
       "      <td>36.577246</td>\n",
       "      <td>0.0</td>\n",
       "      <td>38.524532</td>\n",
       "      <td>95.117058</td>\n",
       "      <td>0.002405</td>\n",
       "      <td>0.000942</td>\n",
       "      <td>0.000442</td>\n",
       "    </tr>\n",
       "    <tr>\n",
       "      <th>min</th>\n",
       "      <td>-2.803260</td>\n",
       "      <td>-1.636970</td>\n",
       "      <td>-2.958720</td>\n",
       "      <td>-0.999971</td>\n",
       "      <td>-0.999520</td>\n",
       "      <td>-0.999900</td>\n",
       "      <td>24.000000</td>\n",
       "      <td>24.000000</td>\n",
       "      <td>23.000000</td>\n",
       "      <td>255.0</td>\n",
       "      <td>0.733820</td>\n",
       "      <td>0.040223</td>\n",
       "      <td>0.000261</td>\n",
       "      <td>0.000170</td>\n",
       "      <td>0.000007</td>\n",
       "    </tr>\n",
       "    <tr>\n",
       "      <th>25%</th>\n",
       "      <td>-2.324630</td>\n",
       "      <td>-0.243042</td>\n",
       "      <td>-0.191804</td>\n",
       "      <td>-0.671336</td>\n",
       "      <td>-0.313780</td>\n",
       "      <td>-0.636432</td>\n",
       "      <td>130.000000</td>\n",
       "      <td>107.000000</td>\n",
       "      <td>93.000000</td>\n",
       "      <td>255.0</td>\n",
       "      <td>71.513809</td>\n",
       "      <td>88.060890</td>\n",
       "      <td>0.001025</td>\n",
       "      <td>0.000621</td>\n",
       "      <td>0.000103</td>\n",
       "    </tr>\n",
       "    <tr>\n",
       "      <th>50%</th>\n",
       "      <td>-2.090480</td>\n",
       "      <td>0.791329</td>\n",
       "      <td>0.196433</td>\n",
       "      <td>0.179696</td>\n",
       "      <td>-0.029879</td>\n",
       "      <td>-0.195724</td>\n",
       "      <td>147.000000</td>\n",
       "      <td>126.000000</td>\n",
       "      <td>113.000000</td>\n",
       "      <td>255.0</td>\n",
       "      <td>101.287018</td>\n",
       "      <td>149.859848</td>\n",
       "      <td>0.001436</td>\n",
       "      <td>0.000847</td>\n",
       "      <td>0.000161</td>\n",
       "    </tr>\n",
       "    <tr>\n",
       "      <th>75%</th>\n",
       "      <td>-1.829800</td>\n",
       "      <td>2.169530</td>\n",
       "      <td>0.683252</td>\n",
       "      <td>0.687106</td>\n",
       "      <td>0.278665</td>\n",
       "      <td>0.317076</td>\n",
       "      <td>163.000000</td>\n",
       "      <td>152.000000</td>\n",
       "      <td>139.000000</td>\n",
       "      <td>255.0</td>\n",
       "      <td>129.526260</td>\n",
       "      <td>264.014923</td>\n",
       "      <td>0.002235</td>\n",
       "      <td>0.001160</td>\n",
       "      <td>0.000280</td>\n",
       "    </tr>\n",
       "    <tr>\n",
       "      <th>max</th>\n",
       "      <td>-1.207110</td>\n",
       "      <td>5.187420</td>\n",
       "      <td>3.716330</td>\n",
       "      <td>0.999955</td>\n",
       "      <td>0.941484</td>\n",
       "      <td>0.999918</td>\n",
       "      <td>230.000000</td>\n",
       "      <td>241.000000</td>\n",
       "      <td>246.000000</td>\n",
       "      <td>255.0</td>\n",
       "      <td>179.189636</td>\n",
       "      <td>359.944000</td>\n",
       "      <td>0.043087</td>\n",
       "      <td>0.018966</td>\n",
       "      <td>0.011380</td>\n",
       "    </tr>\n",
       "  </tbody>\n",
       "</table>\n",
       "</div>"
      ],
      "text/plain": [
       "                  x             y             z            nx            ny  \\\n",
       "count  26405.000000  26405.000000  26405.000000  26405.000000  26405.000000   \n",
       "mean      -2.078718      1.095724      0.228201      0.037529     -0.019235   \n",
       "std        0.299813      1.638542      0.703248      0.690215      0.427445   \n",
       "min       -2.803260     -1.636970     -2.958720     -0.999971     -0.999520   \n",
       "25%       -2.324630     -0.243042     -0.191804     -0.671336     -0.313780   \n",
       "50%       -2.090480      0.791329      0.196433      0.179696     -0.029879   \n",
       "75%       -1.829800      2.169530      0.683252      0.687106      0.278665   \n",
       "max       -1.207110      5.187420      3.716330      0.999955      0.941484   \n",
       "\n",
       "                 nz           red         green          blue    alpha  \\\n",
       "count  26405.000000  26405.000000  26405.000000  26405.000000  26405.0   \n",
       "mean      -0.132769    144.441810    129.367544    117.276539    255.0   \n",
       "std        0.567032     30.459892     34.182228     36.577246      0.0   \n",
       "min       -0.999900     24.000000     24.000000     23.000000    255.0   \n",
       "25%       -0.636432    130.000000    107.000000     93.000000    255.0   \n",
       "50%       -0.195724    147.000000    126.000000    113.000000    255.0   \n",
       "75%        0.317076    163.000000    152.000000    139.000000    255.0   \n",
       "max        0.999918    230.000000    241.000000    246.000000    255.0   \n",
       "\n",
       "       inclination_deg  orientation_deg        e1(26)        e2(26)  \\\n",
       "count     26405.000000     26405.000000  26405.000000  26405.000000   \n",
       "mean         98.787552       172.925842      0.002063      0.001055   \n",
       "std          38.524532        95.117058      0.002405      0.000942   \n",
       "min           0.733820         0.040223      0.000261      0.000170   \n",
       "25%          71.513809        88.060890      0.001025      0.000621   \n",
       "50%         101.287018       149.859848      0.001436      0.000847   \n",
       "75%         129.526260       264.014923      0.002235      0.001160   \n",
       "max         179.189636       359.944000      0.043087      0.018966   \n",
       "\n",
       "             e3(26)  \n",
       "count  26405.000000  \n",
       "mean       0.000266  \n",
       "std        0.000442  \n",
       "min        0.000007  \n",
       "25%        0.000103  \n",
       "50%        0.000161  \n",
       "75%        0.000280  \n",
       "max        0.011380  "
      ]
     },
     "execution_count": 9,
     "metadata": {},
     "output_type": "execute_result"
    }
   ],
   "source": [
    "cloud.points.describe()"
   ]
  },
  {
   "cell_type": "markdown",
   "metadata": {},
   "source": [
    "### Eigen Entropy\n",
    "\n",
    "Coloquialmente, suele considerarse que la entropía es el desorden de un sistema, es decir, su grado de **homogeneidad**. \n",
    "\n",
    "(Xu Zhan, Yong Cai and Ping He Oct/18) La definición de entropía de la información es propuesta por Shannon. Se aplica en el cálculo del importe medio de la información. La información asociada a la probabilidad de datos. Cuanto más baja es la probabilidad, más información tiene el evento.\n",
    "La cantidad de información transmitida por cada evento depende del valor de la variable aleatoria. El valor es la entropía de la información.\n",
    "En este artículo, la entropía de información se desarrolla para calcular la entropía de la nube de puntos. Primero, necesitamos proyectar la nube de puntos en los ejes X, Y, Z, respectivamente. La entropía de información de X, Y, Z es la cantidad promedio de información. La fórmula se define a continuación, donde p x es la probabilidad de las nubes de puntos 3D se proyectan al eje X, y está relacionado con la frecuencia.\n",
    "\n",
    "H(x) = - sum px X log(px)\n",
    "\n",
    "H(y) = - sum py X log(py)\n",
    "\n",
    "H(z) = - sum pz x log(pz)\n",
    "\n",
    "\n",
    "$\\huge E_\\lambda = - \\sum_{j=1}^{3} \\lambda_j \\ln(\\lambda_j)$"
   ]
  },
  {
   "cell_type": "code",
   "execution_count": 10,
   "metadata": {},
   "outputs": [
    {
     "data": {
      "text/plain": [
       "<matplotlib.axes._subplots.AxesSubplot at 0x7f1a1b185908>"
      ]
     },
     "execution_count": 10,
     "metadata": {},
     "output_type": "execute_result"
    },
    {
     "data": {
      "image/png": "[encoded data removed]",
      "text/plain": [
       "<Figure size 432x288 with 1 Axes>"
      ]
     },
     "metadata": {
      "needs_background": "light"
     },
     "output_type": "display_data"
    }
   ],
   "source": [
    "eigenentropy = cloud.add_scalar_field(\"eigenentropy\", ev=eigenvalues)\n",
    "cloud.points[eigenentropy].plot(kind=\"hist\")"
   ]
  },
  {
   "cell_type": "code",
   "execution_count": 11,
   "metadata": {
    "scrolled": true
   },
   "outputs": [
    {
     "data": {
      "text/html": [
       "\n",
       "        <iframe\n",
       "            width=\"800\"\n",
       "            height=\"500\"\n",
       "            src=\"pyntcloud_plot.html\"\n",
       "            frameborder=\"0\"\n",
       "            allowfullscreen\n",
       "        ></iframe>\n",
       "        "
      ],
      "text/plain": [
       "<IPython.lib.display.IFrame at 0x7f1a712aa898>"
      ]
     },
     "execution_count": 11,
     "metadata": {},
     "output_type": "execute_result"
    }
   ],
   "source": [
    "cloud.plot(use_as_color=eigenentropy, cmap=\"jet\", backend=\"threejs\")"
   ]
  },
  {
   "cell_type": "markdown",
   "metadata": {},
   "source": [
    "### sum of eigen values\n",
    "\n",
    "Se define como la suma de la entropía de la información cuando las nubes de puntos 3D se proyectan en los ejes X, Y, Z\n",
    "\n",
    "$\\huge \\sum_\\lambda = \\sum_{j=1}^{3} \\lambda_j$"
   ]
  },
  {
   "cell_type": "code",
   "execution_count": 12,
   "metadata": {},
   "outputs": [
    {
     "data": {
      "text/plain": [
       "<matplotlib.axes._subplots.AxesSubplot at 0x7f1a1b1087f0>"
      ]
     },
     "execution_count": 12,
     "metadata": {},
     "output_type": "execute_result"
    },
    {
     "data": {
      "image/png": "[encoded data removed]",
      "text/plain": [
       "<Figure size 432x288 with 1 Axes>"
      ]
     },
     "metadata": {
      "needs_background": "light"
     },
     "output_type": "display_data"
    }
   ],
   "source": [
    "eigensum = cloud.add_scalar_field(\"eigen_sum\", ev=eigenvalues)\n",
    "cloud.points[eigensum].plot(kind=\"hist\")"
   ]
  },
  {
   "cell_type": "code",
   "execution_count": 13,
   "metadata": {
    "scrolled": true
   },
   "outputs": [
    {
     "data": {
      "text/html": [
       "\n",
       "        <iframe\n",
       "            width=\"800\"\n",
       "            height=\"500\"\n",
       "            src=\"pyntcloud_plot.html\"\n",
       "            frameborder=\"0\"\n",
       "            allowfullscreen\n",
       "        ></iframe>\n",
       "        "
      ],
      "text/plain": [
       "<IPython.lib.display.IFrame at 0x7f1a1b0c1be0>"
      ]
     },
     "execution_count": 13,
     "metadata": {},
     "output_type": "execute_result"
    }
   ],
   "source": [
    "cloud.plot(use_as_color=eigensum, cmap=\"jet\", backend=\"threejs\")"
   ]
  },
  {
   "cell_type": "markdown",
   "metadata": {},
   "source": [
    "### Anisotropy\n",
    "\n",
    "Es la propiedad de ser **direccionalmente dependiente**, lo que implica diferentes propiedades en diferentes direcciones, en oposición a la isotropía . Puede definirse como una diferencia, cuando se mide a lo largo de diferentes ejes\n",
    "\n",
    "$\\huge A_\\lambda = \\frac{\\lambda_1 - \\lambda_2}{\\lambda_3}$"
   ]
  },
  {
   "cell_type": "code",
   "execution_count": 14,
   "metadata": {},
   "outputs": [
    {
     "data": {
      "text/plain": [
       "<matplotlib.axes._subplots.AxesSubplot at 0x7f1a1b06fb38>"
      ]
     },
     "execution_count": 14,
     "metadata": {},
     "output_type": "execute_result"
    },
    {
     "data": {
      "image/png": "[encoded data removed]",
      "text/plain": [
       "<Figure size 432x288 with 1 Axes>"
      ]
     },
     "metadata": {
      "needs_background": "light"
     },
     "output_type": "display_data"
    }
   ],
   "source": [
    "anisotropy = cloud.add_scalar_field(\"anisotropy\", ev=eigenvalues)\n",
    "cloud.points[anisotropy].plot(kind=\"hist\")"
   ]
  },
  {
   "cell_type": "code",
   "execution_count": 15,
   "metadata": {
    "scrolled": true
   },
   "outputs": [
    {
     "data": {
      "text/html": [
       "\n",
       "        <iframe\n",
       "            width=\"800\"\n",
       "            height=\"500\"\n",
       "            src=\"pyntcloud_plot.html\"\n",
       "            frameborder=\"0\"\n",
       "            allowfullscreen\n",
       "        ></iframe>\n",
       "        "
      ],
      "text/plain": [
       "<IPython.lib.display.IFrame at 0x7f1a1afeaac8>"
      ]
     },
     "execution_count": 15,
     "metadata": {},
     "output_type": "execute_result"
    }
   ],
   "source": [
    "cloud.plot(use_as_color=anisotropy, cmap=\"jet\", backend=\"threejs\")"
   ]
  },
  {
   "cell_type": "markdown",
   "metadata": {},
   "source": [
    "### Curvature\n",
    "\n",
    "La curvatura es la cantidad por la cual un objeto geométrico dentro de un espacio euclídeo se desvía de ser plano, o lineal, pero esto se define de diferentes maneras dependiendo del contexto.En un plano, esta es una magnitud escalar, pero en tres o más dimensiones se puede definir un vector de curvatura que **tiene en cuenta la dirección de la curva además de qué tan pronunciada es**. \n",
    "\n",
    "Un ejemplo de dos de las características de puntos geométricos más utilizadas es la curvatura estimada de la superficie subyacente y la normal en un punto de consulta p. Ambos se consideran características locales, ya que caracterizan un punto utilizando la información proporcionada por sus k vecinos de punto más cercanos. Para determinar estos vecinos de manera eficiente, el conjunto de datos de entrada generalmente se divide en trozos más pequeños utilizando técnicas de descomposición espacial tales como octree o kD-trees (vea la figura a continuación: izquierda: kD-tree, derecha: octree), y luego se realizan las búsquedas de puntos más cercanos en ese espacio Dependiendo de la aplicación, se puede optar por determinar un número fijo de k puntos cerca de p, o todos los puntos que se encuentran dentro de una esfera de radio r centrada en p. Indiscutiblemente, uno de los métodos más fáciles para estimar las normales de la superficie y los cambios de curvatura en un punto p es realizar una composición electrónica (es decir, calcular los vectores propios y los valores propios) del parche de superficie del punto de vecindad k. Por lo tanto, el vector propio correspondiente al valor propio más pequeño se aproximará a la normal de la superficie n en el punto p, mientras que el cambio de curvatura de la superficie se estimará a partir de los valores propios como:\n",
    "\n",
    "$\\frac{\\lambda_0}{\\lambda_0 + \\lambda_1 + \\lambda_2}$, where $\\lambda_0 < \\lambda_1 < \\lambda_2$\n",
    "\n",
    "\n",
    "$\\huge C_\\lambda = \\frac{\\lambda_3}{\\sum_\\lambda}$"
   ]
  },
  {
   "cell_type": "code",
   "execution_count": 16,
   "metadata": {},
   "outputs": [
    {
     "data": {
      "text/plain": [
       "<matplotlib.axes._subplots.AxesSubplot at 0x7f1a1aff3390>"
      ]
     },
     "execution_count": 16,
     "metadata": {},
     "output_type": "execute_result"
    },
    {
     "data": {
      "image/png": "[encoded data removed]",
      "text/plain": [
       "<Figure size 432x288 with 1 Axes>"
      ]
     },
     "metadata": {
      "needs_background": "light"
     },
     "output_type": "display_data"
    }
   ],
   "source": [
    "curvature = cloud.add_scalar_field(\"curvature\", ev=eigenvalues)\n",
    "cloud.points[curvature].plot(kind=\"hist\")"
   ]
  },
  {
   "cell_type": "code",
   "execution_count": 17,
   "metadata": {
    "scrolled": true
   },
   "outputs": [
    {
     "data": {
      "text/html": [
       "\n",
       "        <iframe\n",
       "            width=\"800\"\n",
       "            height=\"500\"\n",
       "            src=\"pyntcloud_plot.html\"\n",
       "            frameborder=\"0\"\n",
       "            allowfullscreen\n",
       "        ></iframe>\n",
       "        "
      ],
      "text/plain": [
       "<IPython.lib.display.IFrame at 0x7f1a7c10a630>"
      ]
     },
     "execution_count": 17,
     "metadata": {},
     "output_type": "execute_result"
    }
   ],
   "source": [
    "cloud.plot(use_as_color=curvature, cmap=\"jet\", backend=\"threejs\")"
   ]
  },
  {
   "cell_type": "markdown",
   "metadata": {},
   "source": [
    "### Linearity\n",
    "\n",
    "La propiedad de linealidad está asociada al concepto de espacio vectorial, conjuntos en los que se definen dos operaciones, una interna (suma de vectores {\\displaystyle x+y\\;} {\\displaystyle x+y\\;}) y otra externa (multiplicación por un escalar λx, en la que λ pertenece a un conjunto externo), de ahí que la propiedad de linealidad se exprese referida a estas dos operaciones.\n",
    "\n",
    "$\\huge L_\\lambda = \\frac{\\lambda_1 - \\lambda_2}{\\lambda_1}$"
   ]
  },
  {
   "cell_type": "code",
   "execution_count": 18,
   "metadata": {},
   "outputs": [
    {
     "data": {
      "text/plain": [
       "<matplotlib.axes._subplots.AxesSubplot at 0x7f1a1af6ee80>"
      ]
     },
     "execution_count": 18,
     "metadata": {},
     "output_type": "execute_result"
    },
    {
     "data": {
      "image/png": "[encoded data removed]",
      "text/plain": [
       "<Figure size 432x288 with 1 Axes>"
      ]
     },
     "metadata": {
      "needs_background": "light"
     },
     "output_type": "display_data"
    }
   ],
   "source": [
    "linearity = cloud.add_scalar_field(\"linearity\", ev=eigenvalues)\n",
    "cloud.points[linearity].plot(kind=\"hist\")"
   ]
  },
  {
   "cell_type": "code",
   "execution_count": 19,
   "metadata": {
    "scrolled": true
   },
   "outputs": [
    {
     "data": {
      "text/html": [
       "\n",
       "        <iframe\n",
       "            width=\"800\"\n",
       "            height=\"500\"\n",
       "            src=\"pyntcloud_plot.html\"\n",
       "            frameborder=\"0\"\n",
       "            allowfullscreen\n",
       "        ></iframe>\n",
       "        "
      ],
      "text/plain": [
       "<IPython.lib.display.IFrame at 0x7f1a1aee0e80>"
      ]
     },
     "execution_count": 19,
     "metadata": {},
     "output_type": "execute_result"
    }
   ],
   "source": [
    "cloud.plot(use_as_color=linearity, cmap=\"jet\", backend=\"threejs\")"
   ]
  },
  {
   "cell_type": "markdown",
   "metadata": {},
   "source": [
    "### Omnivariance \n",
    "\n",
    "Es un descriptor para la distribución 3D de puntos en el vecindario. Característica basada en los valores propios de la matriz de **covarianza de un vecindario** local.\n",
    "Se define omnivarianza, para los 3 valores propios λ1≥λ2≥λ3≥0, como: (λ1 × λ2 × λ3)^(1/3)\n",
    "\n",
    "$\\large O_\\lambda = \\sqrt[3]{\\prod_{j=1}^{3}\\lambda_j}$"
   ]
  },
  {
   "cell_type": "code",
   "execution_count": 20,
   "metadata": {},
   "outputs": [
    {
     "data": {
      "text/plain": [
       "<matplotlib.axes._subplots.AxesSubplot at 0x7f1a1af56860>"
      ]
     },
     "execution_count": 20,
     "metadata": {},
     "output_type": "execute_result"
    },
    {
     "data": {
      "image/png": "[encoded data removed]",
      "text/plain": [
       "<Figure size 432x288 with 1 Axes>"
      ]
     },
     "metadata": {
      "needs_background": "light"
     },
     "output_type": "display_data"
    }
   ],
   "source": [
    "omnivariance = cloud.add_scalar_field(\"omnivariance\", ev=eigenvalues)\n",
    "cloud.points[omnivariance].plot(kind=\"hist\")"
   ]
  },
  {
   "cell_type": "code",
   "execution_count": 21,
   "metadata": {
    "scrolled": true
   },
   "outputs": [
    {
     "data": {
      "text/html": [
       "\n",
       "        <iframe\n",
       "            width=\"800\"\n",
       "            height=\"500\"\n",
       "            src=\"pyntcloud_plot.html\"\n",
       "            frameborder=\"0\"\n",
       "            allowfullscreen\n",
       "        ></iframe>\n",
       "        "
      ],
      "text/plain": [
       "<IPython.lib.display.IFrame at 0x7f1a1aed19b0>"
      ]
     },
     "execution_count": 21,
     "metadata": {},
     "output_type": "execute_result"
    }
   ],
   "source": [
    "cloud.plot(use_as_color=omnivariance, cmap=\"jet\", backend=\"threejs\")"
   ]
  },
  {
   "cell_type": "markdown",
   "metadata": {},
   "source": [
    "### Planarity\n",
    "\n",
    "Esta característica se puede utilizar para detectar estructuras relacionados con un plano geométrico. Plano o llano.\n",
    "\n",
    "$\\huge P_\\lambda = \\frac{\\lambda_2 - \\lambda_3}{\\lambda_1}$"
   ]
  },
  {
   "cell_type": "code",
   "execution_count": 22,
   "metadata": {},
   "outputs": [
    {
     "data": {
      "text/plain": [
       "<matplotlib.axes._subplots.AxesSubplot at 0x7f1a7c10e0f0>"
      ]
     },
     "execution_count": 22,
     "metadata": {},
     "output_type": "execute_result"
    },
    {
     "data": {
      "image/png": "[encoded data removed]",
      "text/plain": [
       "<Figure size 432x288 with 1 Axes>"
      ]
     },
     "metadata": {
      "needs_background": "light"
     },
     "output_type": "display_data"
    }
   ],
   "source": [
    "planarity = cloud.add_scalar_field(\"planarity\", ev=eigenvalues)\n",
    "cloud.points[planarity].plot(kind=\"hist\")"
   ]
  },
  {
   "cell_type": "code",
   "execution_count": 23,
   "metadata": {
    "scrolled": true
   },
   "outputs": [
    {
     "data": {
      "text/html": [
       "\n",
       "        <iframe\n",
       "            width=\"800\"\n",
       "            height=\"500\"\n",
       "            src=\"pyntcloud_plot.html\"\n",
       "            frameborder=\"0\"\n",
       "            allowfullscreen\n",
       "        ></iframe>\n",
       "        "
      ],
      "text/plain": [
       "<IPython.lib.display.IFrame at 0x7f1a1ae52c88>"
      ]
     },
     "execution_count": 23,
     "metadata": {},
     "output_type": "execute_result"
    }
   ],
   "source": [
    "cloud.plot(use_as_color=planarity, cmap=\"jet\", backend=\"threejs\")"
   ]
  },
  {
   "cell_type": "markdown",
   "metadata": {},
   "source": [
    "### Sphericity\n",
    "\n",
    "La característica de **esfericidad** permite la exposición de puntos de **alta curvatura**. Estas dos características (lienalidad y esfericidad) son descriptores geométricos útiles para la clasificación de la nube de puntos, la partición y la extracción de características. \n",
    "\n",
    "$\\huge S_\\lambda = \\frac{\\lambda_3}{\\lambda_1}$"
   ]
  },
  {
   "cell_type": "code",
   "execution_count": 24,
   "metadata": {},
   "outputs": [
    {
     "data": {
      "text/plain": [
       "<matplotlib.axes._subplots.AxesSubplot at 0x7f1a1ae40f28>"
      ]
     },
     "execution_count": 24,
     "metadata": {},
     "output_type": "execute_result"
    },
    {
     "data": {
      "image/png": "[encoded data removed]",
      "text/plain": [
       "<Figure size 432x288 with 1 Axes>"
      ]
     },
     "metadata": {
      "needs_background": "light"
     },
     "output_type": "display_data"
    }
   ],
   "source": [
    "sphericity = cloud.add_scalar_field(\"sphericity\", ev=eigenvalues)\n",
    "cloud.points[sphericity].plot(kind=\"hist\")"
   ]
  },
  {
   "cell_type": "code",
   "execution_count": 25,
   "metadata": {
    "scrolled": true
   },
   "outputs": [
    {
     "data": {
      "text/html": [
       "\n",
       "        <iframe\n",
       "            width=\"800\"\n",
       "            height=\"500\"\n",
       "            src=\"pyntcloud_plot.html\"\n",
       "            frameborder=\"0\"\n",
       "            allowfullscreen\n",
       "        ></iframe>\n",
       "        "
      ],
      "text/plain": [
       "<IPython.lib.display.IFrame at 0x7f1a1adb6860>"
      ]
     },
     "execution_count": 25,
     "metadata": {},
     "output_type": "execute_result"
    }
   ],
   "source": [
    "cloud.plot(use_as_color=sphericity, cmap=\"jet\", backend=\"threejs\")"
   ]
  },
  {
   "cell_type": "markdown",
   "metadata": {},
   "source": [
    "### save (describe) file in csv"
   ]
  },
  {
   "cell_type": "code",
   "execution_count": 26,
   "metadata": {},
   "outputs": [
    {
     "data": {
      "text/html": [
       "<div>\n",
       "<style scoped>\n",
       "    .dataframe tbody tr th:only-of-type {\n",
       "        vertical-align: middle;\n",
       "    }\n",
       "\n",
       "    .dataframe tbody tr th {\n",
       "        vertical-align: top;\n",
       "    }\n",
       "\n",
       "    .dataframe thead th {\n",
       "        text-align: right;\n",
       "    }\n",
       "</style>\n",
       "<table border=\"1\" class=\"dataframe\">\n",
       "  <thead>\n",
       "    <tr style=\"text-align: right;\">\n",
       "      <th></th>\n",
       "      <th>x</th>\n",
       "      <th>y</th>\n",
       "      <th>z</th>\n",
       "      <th>nx</th>\n",
       "      <th>ny</th>\n",
       "      <th>nz</th>\n",
       "      <th>red</th>\n",
       "      <th>green</th>\n",
       "      <th>blue</th>\n",
       "      <th>alpha</th>\n",
       "      <th>...</th>\n",
       "      <th>e2(26)</th>\n",
       "      <th>e3(26)</th>\n",
       "      <th>eigenentropy(26)</th>\n",
       "      <th>eigen_sum(26)</th>\n",
       "      <th>anisotropy(26)</th>\n",
       "      <th>curvature(26)</th>\n",
       "      <th>linearity(26)</th>\n",
       "      <th>omnivariance(26)</th>\n",
       "      <th>planarity(26)</th>\n",
       "      <th>sphericity(26)</th>\n",
       "    </tr>\n",
       "  </thead>\n",
       "  <tbody>\n",
       "    <tr>\n",
       "      <th>count</th>\n",
       "      <td>26405.000000</td>\n",
       "      <td>26405.000000</td>\n",
       "      <td>26405.000000</td>\n",
       "      <td>26405.000000</td>\n",
       "      <td>26405.000000</td>\n",
       "      <td>26405.000000</td>\n",
       "      <td>26405.000000</td>\n",
       "      <td>26405.000000</td>\n",
       "      <td>26405.000000</td>\n",
       "      <td>26405.0</td>\n",
       "      <td>...</td>\n",
       "      <td>26405.000000</td>\n",
       "      <td>26405.000000</td>\n",
       "      <td>26405.000000</td>\n",
       "      <td>26405.000000</td>\n",
       "      <td>26405.000000</td>\n",
       "      <td>26405.000000</td>\n",
       "      <td>26405.000000</td>\n",
       "      <td>26405.000000</td>\n",
       "      <td>26405.000000</td>\n",
       "      <td>26405.000000</td>\n",
       "    </tr>\n",
       "    <tr>\n",
       "      <th>mean</th>\n",
       "      <td>-2.078718</td>\n",
       "      <td>1.095724</td>\n",
       "      <td>0.228201</td>\n",
       "      <td>0.037529</td>\n",
       "      <td>-0.019235</td>\n",
       "      <td>-0.132769</td>\n",
       "      <td>144.441810</td>\n",
       "      <td>129.367544</td>\n",
       "      <td>117.276539</td>\n",
       "      <td>255.0</td>\n",
       "      <td>...</td>\n",
       "      <td>0.001055</td>\n",
       "      <td>0.000266</td>\n",
       "      <td>0.021105</td>\n",
       "      <td>0.003384</td>\n",
       "      <td>0.863049</td>\n",
       "      <td>0.076741</td>\n",
       "      <td>0.408456</td>\n",
       "      <td>0.000784</td>\n",
       "      <td>0.454593</td>\n",
       "      <td>0.136951</td>\n",
       "    </tr>\n",
       "    <tr>\n",
       "      <th>std</th>\n",
       "      <td>0.299813</td>\n",
       "      <td>1.638542</td>\n",
       "      <td>0.703248</td>\n",
       "      <td>0.690215</td>\n",
       "      <td>0.427445</td>\n",
       "      <td>0.567032</td>\n",
       "      <td>30.459892</td>\n",
       "      <td>34.182228</td>\n",
       "      <td>36.577246</td>\n",
       "      <td>0.0</td>\n",
       "      <td>...</td>\n",
       "      <td>0.000942</td>\n",
       "      <td>0.000442</td>\n",
       "      <td>0.015617</td>\n",
       "      <td>0.003586</td>\n",
       "      <td>0.093454</td>\n",
       "      <td>0.044905</td>\n",
       "      <td>0.185453</td>\n",
       "      <td>0.000882</td>\n",
       "      <td>0.191598</td>\n",
       "      <td>0.093454</td>\n",
       "    </tr>\n",
       "    <tr>\n",
       "      <th>min</th>\n",
       "      <td>-2.803260</td>\n",
       "      <td>-1.636970</td>\n",
       "      <td>-2.958720</td>\n",
       "      <td>-0.999971</td>\n",
       "      <td>-0.999520</td>\n",
       "      <td>-0.999900</td>\n",
       "      <td>24.000000</td>\n",
       "      <td>24.000000</td>\n",
       "      <td>23.000000</td>\n",
       "      <td>255.0</td>\n",
       "      <td>...</td>\n",
       "      <td>0.000170</td>\n",
       "      <td>0.000007</td>\n",
       "      <td>0.004593</td>\n",
       "      <td>0.000545</td>\n",
       "      <td>0.169354</td>\n",
       "      <td>0.003270</td>\n",
       "      <td>0.005775</td>\n",
       "      <td>0.000139</td>\n",
       "      <td>0.002308</td>\n",
       "      <td>0.004712</td>\n",
       "    </tr>\n",
       "    <tr>\n",
       "      <th>25%</th>\n",
       "      <td>-2.324630</td>\n",
       "      <td>-0.243042</td>\n",
       "      <td>-0.191804</td>\n",
       "      <td>-0.671336</td>\n",
       "      <td>-0.313780</td>\n",
       "      <td>-0.636432</td>\n",
       "      <td>130.000000</td>\n",
       "      <td>107.000000</td>\n",
       "      <td>93.000000</td>\n",
       "      <td>255.0</td>\n",
       "      <td>...</td>\n",
       "      <td>0.000621</td>\n",
       "      <td>0.000103</td>\n",
       "      <td>0.013137</td>\n",
       "      <td>0.001836</td>\n",
       "      <td>0.828865</td>\n",
       "      <td>0.044871</td>\n",
       "      <td>0.267473</td>\n",
       "      <td>0.000419</td>\n",
       "      <td>0.309620</td>\n",
       "      <td>0.073515</td>\n",
       "    </tr>\n",
       "    <tr>\n",
       "      <th>50%</th>\n",
       "      <td>-2.090480</td>\n",
       "      <td>0.791329</td>\n",
       "      <td>0.196433</td>\n",
       "      <td>0.179696</td>\n",
       "      <td>-0.029879</td>\n",
       "      <td>-0.195724</td>\n",
       "      <td>147.000000</td>\n",
       "      <td>126.000000</td>\n",
       "      <td>113.000000</td>\n",
       "      <td>255.0</td>\n",
       "      <td>...</td>\n",
       "      <td>0.000847</td>\n",
       "      <td>0.000161</td>\n",
       "      <td>0.017076</td>\n",
       "      <td>0.002496</td>\n",
       "      <td>0.887662</td>\n",
       "      <td>0.066020</td>\n",
       "      <td>0.397821</td>\n",
       "      <td>0.000578</td>\n",
       "      <td>0.458174</td>\n",
       "      <td>0.112338</td>\n",
       "    </tr>\n",
       "    <tr>\n",
       "      <th>75%</th>\n",
       "      <td>-1.829800</td>\n",
       "      <td>2.169530</td>\n",
       "      <td>0.683252</td>\n",
       "      <td>0.687106</td>\n",
       "      <td>0.278665</td>\n",
       "      <td>0.317076</td>\n",
       "      <td>163.000000</td>\n",
       "      <td>152.000000</td>\n",
       "      <td>139.000000</td>\n",
       "      <td>255.0</td>\n",
       "      <td>...</td>\n",
       "      <td>0.001160</td>\n",
       "      <td>0.000280</td>\n",
       "      <td>0.023485</td>\n",
       "      <td>0.003642</td>\n",
       "      <td>0.926485</td>\n",
       "      <td>0.097791</td>\n",
       "      <td>0.540751</td>\n",
       "      <td>0.000834</td>\n",
       "      <td>0.600326</td>\n",
       "      <td>0.171135</td>\n",
       "    </tr>\n",
       "    <tr>\n",
       "      <th>max</th>\n",
       "      <td>-1.207110</td>\n",
       "      <td>5.187420</td>\n",
       "      <td>3.716330</td>\n",
       "      <td>0.999955</td>\n",
       "      <td>0.941484</td>\n",
       "      <td>0.999918</td>\n",
       "      <td>230.000000</td>\n",
       "      <td>241.000000</td>\n",
       "      <td>246.000000</td>\n",
       "      <td>255.0</td>\n",
       "      <td>...</td>\n",
       "      <td>0.018966</td>\n",
       "      <td>0.011380</td>\n",
       "      <td>0.232795</td>\n",
       "      <td>0.062887</td>\n",
       "      <td>0.995288</td>\n",
       "      <td>0.298457</td>\n",
       "      <td>0.943384</td>\n",
       "      <td>0.017956</td>\n",
       "      <td>0.959639</td>\n",
       "      <td>0.830646</td>\n",
       "    </tr>\n",
       "  </tbody>\n",
       "</table>\n",
       "<p>8 rows × 23 columns</p>\n",
       "</div>"
      ],
      "text/plain": [
       "                  x             y             z            nx            ny  \\\n",
       "count  26405.000000  26405.000000  26405.000000  26405.000000  26405.000000   \n",
       "mean      -2.078718      1.095724      0.228201      0.037529     -0.019235   \n",
       "std        0.299813      1.638542      0.703248      0.690215      0.427445   \n",
       "min       -2.803260     -1.636970     -2.958720     -0.999971     -0.999520   \n",
       "25%       -2.324630     -0.243042     -0.191804     -0.671336     -0.313780   \n",
       "50%       -2.090480      0.791329      0.196433      0.179696     -0.029879   \n",
       "75%       -1.829800      2.169530      0.683252      0.687106      0.278665   \n",
       "max       -1.207110      5.187420      3.716330      0.999955      0.941484   \n",
       "\n",
       "                 nz           red         green          blue    alpha  ...  \\\n",
       "count  26405.000000  26405.000000  26405.000000  26405.000000  26405.0  ...   \n",
       "mean      -0.132769    144.441810    129.367544    117.276539    255.0  ...   \n",
       "std        0.567032     30.459892     34.182228     36.577246      0.0  ...   \n",
       "min       -0.999900     24.000000     24.000000     23.000000    255.0  ...   \n",
       "25%       -0.636432    130.000000    107.000000     93.000000    255.0  ...   \n",
       "50%       -0.195724    147.000000    126.000000    113.000000    255.0  ...   \n",
       "75%        0.317076    163.000000    152.000000    139.000000    255.0  ...   \n",
       "max        0.999918    230.000000    241.000000    246.000000    255.0  ...   \n",
       "\n",
       "             e2(26)        e3(26)  eigenentropy(26)  eigen_sum(26)  \\\n",
       "count  26405.000000  26405.000000      26405.000000   26405.000000   \n",
       "mean       0.001055      0.000266          0.021105       0.003384   \n",
       "std        0.000942      0.000442          0.015617       0.003586   \n",
       "min        0.000170      0.000007          0.004593       0.000545   \n",
       "25%        0.000621      0.000103          0.013137       0.001836   \n",
       "50%        0.000847      0.000161          0.017076       0.002496   \n",
       "75%        0.001160      0.000280          0.023485       0.003642   \n",
       "max        0.018966      0.011380          0.232795       0.062887   \n",
       "\n",
       "       anisotropy(26)  curvature(26)  linearity(26)  omnivariance(26)  \\\n",
       "count    26405.000000   26405.000000   26405.000000      26405.000000   \n",
       "mean         0.863049       0.076741       0.408456          0.000784   \n",
       "std          0.093454       0.044905       0.185453          0.000882   \n",
       "min          0.169354       0.003270       0.005775          0.000139   \n",
       "25%          0.828865       0.044871       0.267473          0.000419   \n",
       "50%          0.887662       0.066020       0.397821          0.000578   \n",
       "75%          0.926485       0.097791       0.540751          0.000834   \n",
       "max          0.995288       0.298457       0.943384          0.017956   \n",
       "\n",
       "       planarity(26)  sphericity(26)  \n",
       "count   26405.000000    26405.000000  \n",
       "mean        0.454593        0.136951  \n",
       "std         0.191598        0.093454  \n",
       "min         0.002308        0.004712  \n",
       "25%         0.309620        0.073515  \n",
       "50%         0.458174        0.112338  \n",
       "75%         0.600326        0.171135  \n",
       "max         0.959639        0.830646  \n",
       "\n",
       "[8 rows x 23 columns]"
      ]
     },
     "execution_count": 26,
     "metadata": {},
     "output_type": "execute_result"
    }
   ],
   "source": [
    "describe = cloud.points.describe()\n",
    "describe.to_csv('CloudNormals_Describe.csv', index=True)\n",
    "describe"
   ]
  },
  {
   "cell_type": "markdown",
   "metadata": {},
   "source": [
    "# Filters"
   ]
  },
  {
   "cell_type": "markdown",
   "metadata": {},
   "source": [
    "### Radius Outlier Removal Filter\n",
    "\n",
    "Eliminar todos los índices en su nube de entrada que no tienen al menos cierto número de **vecinos dentro de un rango**.\n",
    "\n",
    "Parametros: \n",
    "\n",
    "k- Num de vecinos\n",
    "\n",
    "r- El radio de la esfera con centro en cada punto.\n",
    "\n",
    "El filtro buscará el número requerido de vecinos dentro de esa esfera.\n",
    "Un valor 'r' INFERIOR dará como resultado un mayor número de puntos recortados.\n",
    "\n",
    "Los puntos que tengan cualquier distancia marcada como False se recortarán.\n",
    "Las distancias entre cada punto y sus 'k' vecinos más cercanos que exceder la 'r' dada se marcan como Falso."
   ]
  },
  {
   "cell_type": "code",
   "execution_count": 27,
   "metadata": {},
   "outputs": [
    {
     "data": {
      "text/plain": [
       "'K(16,False,False)'"
      ]
     },
     "execution_count": 27,
     "metadata": {},
     "output_type": "execute_result"
    }
   ],
   "source": [
    "kdtree_id = cloud.add_structure(\"kdtree\")\n",
    "kdtree_id"
   ]
  },
  {
   "cell_type": "code",
   "execution_count": 28,
   "metadata": {},
   "outputs": [],
   "source": [
    "points = cloud.xyz\n",
    "kdtree = cloud.structures[kdtree_id]"
   ]
  },
  {
   "cell_type": "code",
   "execution_count": 29,
   "metadata": {},
   "outputs": [],
   "source": [
    "k = 10\n",
    "r = 0.05"
   ]
  },
  {
   "cell_type": "code",
   "execution_count": 30,
   "metadata": {},
   "outputs": [
    {
     "name": "stdout",
     "output_type": "stream",
     "text": [
      "[[0.00000000e+00 0.00000000e+00 3.10969602e-02 ... 5.66168645e-02\n",
      "  5.66761311e-02 5.93296313e-02]\n",
      " [0.00000000e+00 0.00000000e+00 3.10969602e-02 ... 5.66168645e-02\n",
      "  5.66761311e-02 5.93296313e-02]\n",
      " [0.00000000e+00 0.00000000e+00 7.24310054e-05 ... 2.39831824e-02\n",
      "  2.72763056e-02 2.79675196e-02]\n",
      " ...\n",
      " [0.00000000e+00 7.18051917e-03 1.20787918e-02 ... 2.14880031e-02\n",
      "  2.26393415e-02 2.51478879e-02]\n",
      " [0.00000000e+00 7.03674185e-02 7.14982522e-02 ... 8.36954312e-02\n",
      "  8.46234283e-02 8.64081228e-02]\n",
      " [0.00000000e+00 4.28771272e-02 4.54419400e-02 ... 7.76665039e-02\n",
      "  7.84395181e-02 8.75366625e-02]]\n"
     ]
    }
   ],
   "source": [
    "distances = kdtree.query(points, k=k, n_jobs=-1)[0]\n",
    "print(distances)"
   ]
  },
  {
   "cell_type": "code",
   "execution_count": 31,
   "metadata": {},
   "outputs": [
    {
     "data": {
      "text/plain": [
       "array([False, False,  True, ...,  True, False, False])"
      ]
     },
     "execution_count": 31,
     "metadata": {},
     "output_type": "execute_result"
    }
   ],
   "source": [
    "ror_filter = np.all(distances < r, axis=1)\n",
    "ror_filter"
   ]
  },
  {
   "cell_type": "code",
   "execution_count": 32,
   "metadata": {},
   "outputs": [
    {
     "data": {
      "text/plain": [
       "15983"
      ]
     },
     "execution_count": 32,
     "metadata": {},
     "output_type": "execute_result"
    }
   ],
   "source": [
    "np.sum(ror_filter)"
   ]
  },
  {
   "cell_type": "markdown",
   "metadata": {},
   "source": [
    "### Statistical Outlier Removal Filter"
   ]
  },
  {
   "cell_type": "markdown",
   "metadata": {},
   "source": [
    "Filtro de eliminación de valores atípicos estadísticos utilizando el KDTree dado.\n",
    "     \n",
    "Parámetros\n",
    "\n",
    "k: Núm de vecinos que se usarán para calcular el filtro.\n",
    "\n",
    "z_max: La puntuación máxima de Z que determina si el punto es un valor atípico.\n",
    "\n",
    "\n",
    "Para cada punto, **calcula la media de las distancias entre él y su 'k' vecinos más cercanos**.\n",
    "Se calcula la puntuación Z de esas medias.\n",
    "Los puntos con una puntuación Z fuera del rango [-z_max, z_max] están marcados como falso, para ser recortado.\n",
    "     \n",
    "El parámetro opcional z_max debe usarse para ajustar el filtro al resultado deseado.\n",
    "Un valor 'Z_max' INFERIOR dará como resultado un mayor número de puntos recortados."
   ]
  },
  {
   "cell_type": "code",
   "execution_count": 33,
   "metadata": {},
   "outputs": [],
   "source": [
    "z_max = 0.05"
   ]
  },
  {
   "cell_type": "code",
   "execution_count": 34,
   "metadata": {},
   "outputs": [
    {
     "name": "stdout",
     "output_type": "stream",
     "text": [
      "[ 0.15253245  0.15253245 -1.13569362 ... -1.18394399  2.22426204\n",
      "  1.46683991]\n"
     ]
    }
   ],
   "source": [
    "distances_sta = kdtree.query(points, k=k, n_jobs=-1)[0]\n",
    "\n",
    "from scipy.stats import zscore\n",
    "z_distances = zscore(np.mean(distances_sta, axis=1), ddof=1)\n",
    "print(z_distances)"
   ]
  },
  {
   "cell_type": "code",
   "execution_count": 35,
   "metadata": {},
   "outputs": [
    {
     "data": {
      "text/plain": [
       "array([False, False, False, ..., False, False, False])"
      ]
     },
     "execution_count": 35,
     "metadata": {},
     "output_type": "execute_result"
    }
   ],
   "source": [
    "sor_filter = abs(z_distances) < z_max\n",
    "sor_filter"
   ]
  },
  {
   "cell_type": "code",
   "execution_count": 36,
   "metadata": {},
   "outputs": [
    {
     "data": {
      "text/plain": [
       "1436"
      ]
     },
     "execution_count": 36,
     "metadata": {},
     "output_type": "execute_result"
    }
   ],
   "source": [
    "np.sum(sor_filter)"
   ]
  },
  {
   "cell_type": "code",
   "execution_count": 37,
   "metadata": {},
   "outputs": [],
   "source": [
    "cloud.points['ror_filter'] = ror_filter"
   ]
  },
  {
   "cell_type": "code",
   "execution_count": 38,
   "metadata": {},
   "outputs": [],
   "source": [
    "cloud.points['sor_filter'] = sor_filter"
   ]
  },
  {
   "cell_type": "code",
   "execution_count": 39,
   "metadata": {},
   "outputs": [],
   "source": [
    "cloud.points.to_csv('CloudFilters.csv', index=True)"
   ]
  },
  {
   "cell_type": "markdown",
   "metadata": {},
   "source": [
    "### Point Cloud filtered"
   ]
  },
  {
   "cell_type": "code",
   "execution_count": 40,
   "metadata": {},
   "outputs": [
    {
     "data": {
      "text/html": [
       "<div>\n",
       "<style scoped>\n",
       "    .dataframe tbody tr th:only-of-type {\n",
       "        vertical-align: middle;\n",
       "    }\n",
       "\n",
       "    .dataframe tbody tr th {\n",
       "        vertical-align: top;\n",
       "    }\n",
       "\n",
       "    .dataframe thead th {\n",
       "        text-align: right;\n",
       "    }\n",
       "</style>\n",
       "<table border=\"1\" class=\"dataframe\">\n",
       "  <thead>\n",
       "    <tr style=\"text-align: right;\">\n",
       "      <th></th>\n",
       "      <th>x</th>\n",
       "      <th>y</th>\n",
       "      <th>z</th>\n",
       "      <th>nx</th>\n",
       "      <th>ny</th>\n",
       "      <th>nz</th>\n",
       "      <th>red</th>\n",
       "      <th>green</th>\n",
       "      <th>blue</th>\n",
       "      <th>alpha</th>\n",
       "      <th>...</th>\n",
       "      <th>eigenentropy(26)</th>\n",
       "      <th>eigen_sum(26)</th>\n",
       "      <th>anisotropy(26)</th>\n",
       "      <th>curvature(26)</th>\n",
       "      <th>linearity(26)</th>\n",
       "      <th>omnivariance(26)</th>\n",
       "      <th>planarity(26)</th>\n",
       "      <th>sphericity(26)</th>\n",
       "      <th>ror_filter</th>\n",
       "      <th>sor_filter</th>\n",
       "    </tr>\n",
       "  </thead>\n",
       "  <tbody>\n",
       "    <tr>\n",
       "      <th>0</th>\n",
       "      <td>-1.88340</td>\n",
       "      <td>2.48449</td>\n",
       "      <td>0.036586</td>\n",
       "      <td>0.512668</td>\n",
       "      <td>0.270425</td>\n",
       "      <td>0.814888</td>\n",
       "      <td>107</td>\n",
       "      <td>76</td>\n",
       "      <td>66</td>\n",
       "      <td>255</td>\n",
       "      <td>...</td>\n",
       "      <td>0.028406</td>\n",
       "      <td>0.004651</td>\n",
       "      <td>0.933445</td>\n",
       "      <td>0.046874</td>\n",
       "      <td>0.646692</td>\n",
       "      <td>0.000939</td>\n",
       "      <td>0.286753</td>\n",
       "      <td>0.066555</td>\n",
       "      <td>False</td>\n",
       "      <td>False</td>\n",
       "    </tr>\n",
       "    <tr>\n",
       "      <th>1</th>\n",
       "      <td>-1.88340</td>\n",
       "      <td>2.48449</td>\n",
       "      <td>0.036586</td>\n",
       "      <td>0.512668</td>\n",
       "      <td>0.270425</td>\n",
       "      <td>0.814888</td>\n",
       "      <td>107</td>\n",
       "      <td>76</td>\n",
       "      <td>66</td>\n",
       "      <td>255</td>\n",
       "      <td>...</td>\n",
       "      <td>0.028406</td>\n",
       "      <td>0.004651</td>\n",
       "      <td>0.933445</td>\n",
       "      <td>0.046874</td>\n",
       "      <td>0.646692</td>\n",
       "      <td>0.000939</td>\n",
       "      <td>0.286753</td>\n",
       "      <td>0.066555</td>\n",
       "      <td>False</td>\n",
       "      <td>False</td>\n",
       "    </tr>\n",
       "    <tr>\n",
       "      <th>2</th>\n",
       "      <td>-1.84814</td>\n",
       "      <td>1.89112</td>\n",
       "      <td>-0.309660</td>\n",
       "      <td>0.873496</td>\n",
       "      <td>0.110892</td>\n",
       "      <td>-0.474033</td>\n",
       "      <td>155</td>\n",
       "      <td>131</td>\n",
       "      <td>119</td>\n",
       "      <td>255</td>\n",
       "      <td>...</td>\n",
       "      <td>0.009795</td>\n",
       "      <td>0.001316</td>\n",
       "      <td>0.876565</td>\n",
       "      <td>0.084089</td>\n",
       "      <td>0.655525</td>\n",
       "      <td>0.000313</td>\n",
       "      <td>0.221040</td>\n",
       "      <td>0.123436</td>\n",
       "      <td>True</td>\n",
       "      <td>False</td>\n",
       "    </tr>\n",
       "    <tr>\n",
       "      <th>3</th>\n",
       "      <td>-2.48653</td>\n",
       "      <td>4.31196</td>\n",
       "      <td>1.155000</td>\n",
       "      <td>-0.410948</td>\n",
       "      <td>0.492932</td>\n",
       "      <td>0.766903</td>\n",
       "      <td>131</td>\n",
       "      <td>134</td>\n",
       "      <td>95</td>\n",
       "      <td>255</td>\n",
       "      <td>...</td>\n",
       "      <td>0.045955</td>\n",
       "      <td>0.008246</td>\n",
       "      <td>0.890955</td>\n",
       "      <td>0.076939</td>\n",
       "      <td>0.691764</td>\n",
       "      <td>0.001878</td>\n",
       "      <td>0.199191</td>\n",
       "      <td>0.109045</td>\n",
       "      <td>False</td>\n",
       "      <td>False</td>\n",
       "    </tr>\n",
       "    <tr>\n",
       "      <th>4</th>\n",
       "      <td>-1.91627</td>\n",
       "      <td>1.93051</td>\n",
       "      <td>0.138019</td>\n",
       "      <td>0.682870</td>\n",
       "      <td>0.618378</td>\n",
       "      <td>0.388970</td>\n",
       "      <td>94</td>\n",
       "      <td>70</td>\n",
       "      <td>61</td>\n",
       "      <td>255</td>\n",
       "      <td>...</td>\n",
       "      <td>0.020515</td>\n",
       "      <td>0.003091</td>\n",
       "      <td>0.899168</td>\n",
       "      <td>0.052893</td>\n",
       "      <td>0.194474</td>\n",
       "      <td>0.000702</td>\n",
       "      <td>0.704694</td>\n",
       "      <td>0.100832</td>\n",
       "      <td>False</td>\n",
       "      <td>False</td>\n",
       "    </tr>\n",
       "  </tbody>\n",
       "</table>\n",
       "<p>5 rows × 25 columns</p>\n",
       "</div>"
      ],
      "text/plain": [
       "         x        y         z        nx        ny        nz  red  green  blue  \\\n",
       "0 -1.88340  2.48449  0.036586  0.512668  0.270425  0.814888  107     76    66   \n",
       "1 -1.88340  2.48449  0.036586  0.512668  0.270425  0.814888  107     76    66   \n",
       "2 -1.84814  1.89112 -0.309660  0.873496  0.110892 -0.474033  155    131   119   \n",
       "3 -2.48653  4.31196  1.155000 -0.410948  0.492932  0.766903  131    134    95   \n",
       "4 -1.91627  1.93051  0.138019  0.682870  0.618378  0.388970   94     70    61   \n",
       "\n",
       "   alpha  ...  eigenentropy(26)  eigen_sum(26)  anisotropy(26)  curvature(26)  \\\n",
       "0    255  ...          0.028406       0.004651        0.933445       0.046874   \n",
       "1    255  ...          0.028406       0.004651        0.933445       0.046874   \n",
       "2    255  ...          0.009795       0.001316        0.876565       0.084089   \n",
       "3    255  ...          0.045955       0.008246        0.890955       0.076939   \n",
       "4    255  ...          0.020515       0.003091        0.899168       0.052893   \n",
       "\n",
       "   linearity(26)  omnivariance(26)  planarity(26)  sphericity(26)  ror_filter  \\\n",
       "0       0.646692          0.000939       0.286753        0.066555       False   \n",
       "1       0.646692          0.000939       0.286753        0.066555       False   \n",
       "2       0.655525          0.000313       0.221040        0.123436        True   \n",
       "3       0.691764          0.001878       0.199191        0.109045       False   \n",
       "4       0.194474          0.000702       0.704694        0.100832       False   \n",
       "\n",
       "   sor_filter  \n",
       "0       False  \n",
       "1       False  \n",
       "2       False  \n",
       "3       False  \n",
       "4       False  \n",
       "\n",
       "[5 rows x 25 columns]"
      ]
     },
     "execution_count": 40,
     "metadata": {},
     "output_type": "execute_result"
    }
   ],
   "source": [
    "cloud_ror = cloud.points\n",
    "cloud_ror.head()"
   ]
  },
  {
   "cell_type": "code",
   "execution_count": 41,
   "metadata": {},
   "outputs": [
    {
     "data": {
      "text/html": [
       "<video src=\"images/pointcloud_pixelado\" controls  width=\"400\"  height=\"300\">\n",
       "      Your browser does not support the <code>video</code> element.\n",
       "    </video>"
      ],
      "text/plain": [
       "<IPython.core.display.Video object>"
      ]
     },
     "execution_count": 41,
     "metadata": {},
     "output_type": "execute_result"
    }
   ],
   "source": [
    "from IPython.display import Video\n",
    "\n",
    "Video(\"images/pointcloud_pixelado\", width=400, height=300)"
   ]
  },
  {
   "cell_type": "code",
   "execution_count": null,
   "metadata": {},
   "outputs": [],
   "source": []
  }
 ],
 "metadata": {
  "kernelspec": {
   "display_name": "Python 3",
   "language": "python",
   "name": "python3"
  },
  "language_info": {
   "codemirror_mode": {
    "name": "ipython",
    "version": 3
   },
   "file_extension": ".py",
   "mimetype": "text/x-python",
   "name": "python",
   "nbconvert_exporter": "python",
   "pygments_lexer": "ipython3",
   "version": "3.6.8"
  }
 },
 "nbformat": 4,
 "nbformat_minor": 2
}
